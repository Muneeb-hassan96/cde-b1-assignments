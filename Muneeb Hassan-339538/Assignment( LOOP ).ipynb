{
 "cells": [
  {
   "cell_type": "markdown",
   "id": "c1e23b95-496a-4caa-b476-72a21841881b",
   "metadata": {},
   "source": [
    "# Question No 01 - Write a function called create_word_count that takes a list of strings and returns a dictionary where:\n",
    "\n",
    "Keys are unique words from the list. Values are the count of occurrences of each word.\n",
    "\n",
    "Exmple: words = ['apple', 'banana', 'apple', 'cherry', 'banana', 'apple'] result = create_word_count(words) print(result) # {'apple': 3, 'banana': 2, 'cherry': 1}\n"
   ]
  },
  {
   "cell_type": "code",
   "execution_count": 7,
   "id": "00b86773-78e4-4856-af31-991cceb82142",
   "metadata": {},
   "outputs": [
    {
     "name": "stdout",
     "output_type": "stream",
     "text": [
      "{'apple': 2, 'banana': 1, 'cherry': 1}\n"
     ]
    }
   ],
   "source": [
    "def create_word_count(words):\n",
    "    word_count = {}\n",
    "    for word in words:\n",
    "        if word in word_count:\n",
    "            word_count[word] += 1\n",
    "        else:\n",
    "            word_count[word] = 1\n",
    "    \n",
    "    return word_count\n",
    "\n",
    "words = ['apple', 'banana' , 'cherry', 'apple']\n",
    "result = create_word_count(words)\n",
    "print(result)"
   ]
  },
  {
   "cell_type": "markdown",
   "id": "3cb87e8f-27c1-45af-80b4-2bd6f32d8fab",
   "metadata": {},
   "source": [
    "# Question No 02 - Create a program to find all unique pairs of numbers in a list that add up to a target sum.\n",
    "\n",
    "Use a single list and a for loop (nested if necessary) to iterate through and find pairs without duplicates. Avoid repeating pairs like [3, 5] and [5, 3]."
   ]
  },
  {
   "cell_type": "code",
   "execution_count": 4,
   "id": "c47d7d1f-090d-4af0-a0a8-709fe878d1e7",
   "metadata": {},
   "outputs": [
    {
     "name": "stdout",
     "output_type": "stream",
     "text": [
      "[(2, 7), (4, 5), (1, 8)]\n"
     ]
    }
   ],
   "source": [
    "def sum_prog(numbers, target):\n",
    "    unique = []\n",
    "    for i in range(len(numbers)):\n",
    "        for j in range(i + 1, len(numbers)):  \n",
    "            if numbers[i] + numbers[j] == target:\n",
    "                # Create a sorted pair (smaller number first)\n",
    "                pair = (min(numbers[i], numbers[j]), max(numbers[i], numbers[j]))\n",
    "                # Avoid adding duplicate pairs\n",
    "                if pair not in unique:\n",
    "                    unique.append(pair)\n",
    "    return unique\n",
    "\n",
    "numbers = [2, 7, 3, 4, 5, 1, 8]\n",
    "target = 9\n",
    "result = sum_prog(numbers, target)      \n",
    "print(result)\n"
   ]
  },
  {
   "cell_type": "markdown",
   "id": "1596be3e-bdec-4f24-9d7c-730f38e33cd5",
   "metadata": {},
   "source": [
    "# Question No 03 - Write a program to calculate the cumulative product of elements in a list.\n",
    "\n",
    "Use a single list and update it in place to store the cumulative product at each index. Use only a for loop."
   ]
  },
  {
   "cell_type": "code",
   "execution_count": 6,
   "id": "64b72ee3-f405-4f0f-949a-395d4573ebb4",
   "metadata": {},
   "outputs": [
    {
     "name": "stdout",
     "output_type": "stream",
     "text": [
      "[1, 2, 6, 24, 120]\n"
     ]
    }
   ],
   "source": [
    "def camulative_product(numbers):\n",
    "    for i in range(1, len(numbers)):\n",
    "        numbers[i] *= numbers[i - 1]\n",
    "    return numbers\n",
    "\n",
    "numbers = [1, 2, 3, 4, 5]\n",
    "result = camulative_product(numbers)\n",
    "print(result)"
   ]
  },
  {
   "cell_type": "markdown",
   "id": "0eeeff37-1a97-4e94-84ba-19ae6fc62282",
   "metadata": {},
   "source": [
    "# Question No 04 - Write a program to reshape a 1D list into a 2D grid.\n",
    "\n",
    "Accept a list of numbers and the number of rows as input. Use for loops to split the list into sublists, each representing a row. If the list cannot be evenly divided into rows, pad it with None.\n",
    "\n",
    "Example: Input: [1, 2, 3, 4, 5, 6, 7], Rows: 3\n",
    "Output: [[1, 2, 3], [4, 5, 6], [7, None, None]]"
   ]
  },
  {
   "cell_type": "code",
   "execution_count": 13,
   "id": "163a67c0-f83f-41bb-955c-310a5a672b34",
   "metadata": {},
   "outputs": [
    {
     "name": "stdout",
     "output_type": "stream",
     "text": [
      "[[1, 2, 3], [4, 5, 6], [7, None, None]]\n"
     ]
    }
   ],
   "source": [
    "def reshape_list(numbers, rows):\n",
    "    total_elements = len(numbers)\n",
    "    columns = (total_elements + rows - 1) // rows\n",
    "\n",
    "    padding = (rows * columns) - total_elements\n",
    "    numbers += [None] * padding\n",
    "\n",
    "    grid = []\n",
    "    for i in range(rows):\n",
    "        grid.append(numbers[i * columns:(i + 1) * columns])\n",
    "\n",
    "    return grid\n",
    "\n",
    "numbers = [1, 2, 3, 4, 5, 6, 7]\n",
    "rows = 3\n",
    "result = reshape_list(numbers, rows)\n",
    "print(result)"
   ]
  },
  {
   "cell_type": "markdown",
   "id": "84ac83d6-8aaa-42ac-9699-2fd562b87c1a",
   "metadata": {},
   "source": [
    "# Question No 05 - Write a program to sort a list of numbers into two separate lists:\n",
    "\n",
    "One list for all odd numbers (in ascending order). One list for all even numbers (in descending order). Use for loops for the entire process."
   ]
  },
  {
   "cell_type": "code",
   "execution_count": 14,
   "id": "35d77bcc-e19d-4620-af2c-661806786b31",
   "metadata": {},
   "outputs": [
    {
     "name": "stdout",
     "output_type": "stream",
     "text": [
      "Odd numbers (ascending): [1, 3, 5, 7]\n",
      "Even numbers (descending): [8, 6, 4, 2]\n"
     ]
    }
   ],
   "source": [
    "def separate_and_sort(numbers):\n",
    "    odd_numbers = []\n",
    "    even_numbers = []\n",
    "    \n",
    "    for num in numbers:\n",
    "        if num % 2 == 0:  \n",
    "            even_numbers.append(num)\n",
    "        else: \n",
    "            odd_numbers.append(num)\n",
    "    \n",
    "    odd_numbers.sort()\n",
    "    \n",
    "    even_numbers.sort(reverse=True)\n",
    "    \n",
    "    return odd_numbers, even_numbers\n",
    "\n",
    "numbers = [3, 8, 1, 4, 7, 2, 5, 6]\n",
    "odd_list, even_list = separate_and_sort(numbers)\n",
    "\n",
    "print(\"Odd numbers (ascending):\", odd_list)\n",
    "print(\"Even numbers (descending):\", even_list)\n"
   ]
  },
  {
   "cell_type": "markdown",
   "id": "ca3c92d5-5638-49fe-b866-54853ec65d56",
   "metadata": {},
   "source": [
    "# Question No 06 - Write a program that uses a for loop to count the frequency of each character in a given string and stores the result in a dictionary.\n",
    "\n",
    "The program should ignore spaces and be case-insensitive. Display the dictionary as the final output."
   ]
  },
  {
   "cell_type": "code",
   "execution_count": 16,
   "id": "920b5bd9-e0d8-4810-8eb3-10f2220bde14",
   "metadata": {},
   "outputs": [
    {
     "name": "stdout",
     "output_type": "stream",
     "text": [
      "{'h': 1, 'e': 1, 'l': 3, 'o': 2, ' ': 1, 'w': 1, 'r': 1, 'd': 1}\n"
     ]
    }
   ],
   "source": [
    "def count_charac_frequency(string):\n",
    "    frequency = {}\n",
    "\n",
    "    for char in string:s\n",
    "        if char != ' ':\n",
    "            char = char.lower()\n",
    "\n",
    "        if char in frequency:\n",
    "            frequency[char] += 1\n",
    "        else:\n",
    "            frequency[char] = 1\n",
    "\n",
    "    return frequency\n",
    "\n",
    "inp_string = \"Hello World\"\n",
    "result = count_charac_frequency(inp_string)\n",
    "print(result)"
   ]
  },
  {
   "cell_type": "code",
   "execution_count": null,
   "id": "032a5925-26ae-4910-b692-b17ead2c6891",
   "metadata": {},
   "outputs": [],
   "source": []
  }
 ],
 "metadata": {
  "kernelspec": {
   "display_name": "Python 3 (ipykernel)",
   "language": "python",
   "name": "python3"
  },
  "language_info": {
   "codemirror_mode": {
    "name": "ipython",
    "version": 3
   },
   "file_extension": ".py",
   "mimetype": "text/x-python",
   "name": "python",
   "nbconvert_exporter": "python",
   "pygments_lexer": "ipython3",
   "version": "3.12.7"
  }
 },
 "nbformat": 4,
 "nbformat_minor": 5
}
