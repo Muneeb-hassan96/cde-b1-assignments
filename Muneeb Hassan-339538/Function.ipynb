{
 "cells": [
  {
   "cell_type": "code",
   "execution_count": null,
   "id": "ea27d511-e1a0-4121-969a-582f5a4a65df",
   "metadata": {},
   "outputs": [],
   "source": []
  },
  {
   "cell_type": "markdown",
   "id": "3dbeb764-4a79-49bd-9953-2d3dd817fe3c",
   "metadata": {},
   "source": [
    "# Question No 01\n",
    "Write a function called create_word_count that takes a list of strings and returns a dictionary where:\n",
    "\n",
    "Keys are unique words from the list. Values are the count of occurrences of each word."
   ]
  },
  {
   "cell_type": "code",
   "execution_count": 1,
   "id": "68171e2f-e75f-446e-9ffd-a60e74b84322",
   "metadata": {},
   "outputs": [
    {
     "name": "stdout",
     "output_type": "stream",
     "text": [
      "{'apple': 2, 'banana': 1, 'pineapple': 1}\n"
     ]
    }
   ],
   "source": [
    "def  create_word_count(words):\n",
    "    word_count = {}\n",
    "    for word in words:\n",
    "        if word in word_count:\n",
    "            word_count[word] += 1\n",
    "        else:\n",
    "            word_count[word] = 1\n",
    "\n",
    "    return word_count\n",
    "\n",
    "words = [\"apple\", \"banana\", \"pineapple\", \"apple\"]\n",
    "result = create_word_count(words)\n",
    "print(result)"
   ]
  },
  {
   "cell_type": "markdown",
   "id": "4a7437d0-f370-4760-9e98-9abd56b25e79",
   "metadata": {},
   "source": [
    "# Question No 02\n",
    "Write a function called sort_by_key that takes a list of dictionaries and a key to sort by.\n",
    "\n",
    "The function should return a new list sorted by the given key in ascending order. If the key doesn’t exist in a dictionary, ignore that dictionary."
   ]
  },
  {
   "cell_type": "code",
   "execution_count": 6,
   "id": "7c2f4bf5-5458-4115-a0b7-d2a002af3b9b",
   "metadata": {},
   "outputs": [
    {
     "name": "stdout",
     "output_type": "stream",
     "text": [
      "[{'name': 'Ray', 'age': 10}, {'name': 'Ayaz', 'age': 20}, {'name': 'Muneeb', 'age': 30}]\n"
     ]
    }
   ],
   "source": [
    "def sort_by_key(dict_list, key):\n",
    "    filtered_list = []\n",
    "\n",
    "    for d in dict_list:\n",
    "        if key in d:\n",
    "            filtered_list.append(d)\n",
    "\n",
    "    sorted_list = sorted(filtered_list,key=lambda x :x[key])\n",
    "\n",
    "    return sorted_list\n",
    "\n",
    "data =  [\n",
    "       {'name': 'Muneeb', 'age' : 30},\n",
    "       {'name': 'Ayaz', 'age' : 20},\n",
    "       {'name': 'Ray', 'age' : 10},\n",
    "       {'name': 'May'}\n",
    "]\n",
    "\n",
    "sorted_data = sort_by_key(data, 'age')\n",
    "print(sorted_data)"
   ]
  },
  {
   "cell_type": "markdown",
   "id": "7eedd45a-2def-47b6-87b8-e9438a80190d",
   "metadata": {},
   "source": [
    "# Question No 03 - Write a function called filter_dict that takes a dictionary and a value threshold as arguments.\n",
    "\n",
    "The function should return a new dictionary containing only the key-value pairs where the value is greater than the threshold."
   ]
  },
  {
   "cell_type": "code",
   "execution_count": 3,
   "id": "79671658-ad0a-4583-bcd1-f14978b60f0e",
   "metadata": {},
   "outputs": [
    {
     "name": "stdout",
     "output_type": "stream",
     "text": [
      "{'a': 10, 'c': 6}\n"
     ]
    }
   ],
   "source": [
    "def filter_dict(dict1,thresh):\n",
    "    new_dict = {}\n",
    "    for key, value in dict1.items():\n",
    "        if value > thresh:\n",
    "            new_dict[key] = value\n",
    "\n",
    "    return new_dict\n",
    "\n",
    "dictt = {'a': 10, 'b': 3, 'c': 6}\n",
    "\n",
    "filterr = filter_dict(dictt, 5)\n",
    "print(filterr)"
   ]
  },
  {
   "cell_type": "markdown",
   "id": "52e6599c-82fc-41e4-a43b-624b1433bc15",
   "metadata": {},
   "source": [
    "# Question No 04 - Write a function called find_common_keys that takes two dictionaries and returns a list of keys that are common to both."
   ]
  },
  {
   "cell_type": "code",
   "execution_count": null,
   "id": "0fb9e450-9219-4096-b830-6f3ca96c3b36",
   "metadata": {},
   "outputs": [],
   "source": []
  },
  {
   "cell_type": "code",
   "execution_count": 7,
   "id": "ffba49b3-25a7-4a8f-96fc-46ffbca285a7",
   "metadata": {},
   "outputs": [
    {
     "name": "stdout",
     "output_type": "stream",
     "text": [
      "['a', 'c']\n"
     ]
    }
   ],
   "source": [
    "def find_common_key(dict1, dict2):\n",
    "    common_keys = []\n",
    "    for key1 in dict1.keys():\n",
    "        if key1 in dict2:\n",
    "            common_keys.append(key1)\n",
    "    return common_keys\n",
    "\n",
    "dict1 = {'a': 10, 'b': 3, 'c': 6}\n",
    "dict2 = {'a': 10, 'g': 30, 'c': 6}\n",
    "common = find_common_key(dict1, dict2)\n",
    "print(common)"
   ]
  },
  {
   "cell_type": "markdown",
   "id": "2da56201-3377-487b-85df-93af642191f1",
   "metadata": {},
   "source": [
    "# Question No 5 - Write a function called update_grades that takes a list of dictionaries (representing students with their grades) and updates the grade of a student if their name matches the given name."
   ]
  },
  {
   "cell_type": "code",
   "execution_count": 17,
   "id": "39ba4a4e-5993-4e64-a173-1715194ee12f",
   "metadata": {},
   "outputs": [
    {
     "name": "stdout",
     "output_type": "stream",
     "text": [
      "[{'name': 'Alice', 'grade': 85}, {'name': 'Bob', 'grade': 95}]\n"
     ]
    }
   ],
   "source": [
    "def update_grades(students, name, new_grade):\n",
    "    for student in students:\n",
    "        if student['name'] == name:\n",
    "            student['grade'] = new_grade    \n",
    "    return students\n",
    "    \n",
    "students = [{'name': 'Alice', 'grade': 85}, {'name': 'Bob', 'grade': 90}]\n",
    "update_students = update_grades(students, 'Bob', 95)\n",
    "print(update_students)"
   ]
  },
  {
   "cell_type": "markdown",
   "id": "cf4f11e9-cc9f-4c54-8aa4-ecfea0529df9",
   "metadata": {},
   "source": [
    "# Question No 6 - Write a function called merge_lists_to_dict that takes two lists of equal length:\n",
    "\n",
    "The first list contains keys. The second list contains values. The function should return a dictionary created by merging these lists."
   ]
  },
  {
   "cell_type": "code",
   "execution_count": 21,
   "id": "22a0e022-6903-4712-8905-3b7394b02690",
   "metadata": {},
   "outputs": [
    {
     "name": "stdout",
     "output_type": "stream",
     "text": [
      "{1: 'Muneeb', 2: 'Ayaz', 3: 'Fayyaz', 4: 'Ray'}\n"
     ]
    }
   ],
   "source": [
    "def merge_list_to_dict(list1, list2):\n",
    "    merged_dict = {}\n",
    "    for keys, values in zip(list1, list2):\n",
    "        merged_dict[keys] = values\n",
    "        \n",
    "    return merged_dict\n",
    "\n",
    "lis1 = [1,2,3,4]\n",
    "lis2 = ['Muneeb', 'Ayaz', 'Fayyaz', 'Ray']\n",
    "\n",
    "merged = merge_list_to_dict(lis1, lis2)\n",
    "print(merged)"
   ]
  },
  {
   "cell_type": "code",
   "execution_count": null,
   "id": "79abd160-cd36-4b48-99b0-9ff9eab435e9",
   "metadata": {},
   "outputs": [],
   "source": []
  }
 ],
 "metadata": {
  "kernelspec": {
   "display_name": "Python 3 (ipykernel)",
   "language": "python",
   "name": "python3"
  },
  "language_info": {
   "codemirror_mode": {
    "name": "ipython",
    "version": 3
   },
   "file_extension": ".py",
   "mimetype": "text/x-python",
   "name": "python",
   "nbconvert_exporter": "python",
   "pygments_lexer": "ipython3",
   "version": "3.12.7"
  }
 },
 "nbformat": 4,
 "nbformat_minor": 5
}
